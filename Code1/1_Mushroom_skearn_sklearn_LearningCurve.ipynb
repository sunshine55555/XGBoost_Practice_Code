{
 "cells": [
  {
   "cell_type": "markdown",
   "metadata": {},
   "source": [
    "# XGBoost快速入门——与scikit-learn一起使用-split-early stop"
   ]
  },
  {
   "cell_type": "code",
   "execution_count": 2,
   "metadata": {
    "collapsed": false
   },
   "outputs": [],
   "source": [
    "# 运行 xgboost安装包中的示例程序\n",
    "import xgboost as xgb\n",
    "from xgboost import XGBClassifier\n",
    "\n",
    "# 加载LibSVM格式数据模块\n",
    "from sklearn.datasets import load_svmlight_file\n",
    "\n",
    "from sklearn.model_selection import train_test_split\n",
    "from sklearn.metrics import accuracy_score\n",
    "\n",
    "from matplotlib import pyplot"
   ]
  },
  {
   "cell_type": "markdown",
   "metadata": {},
   "source": [
    "## 数据读取"
   ]
  },
  {
   "cell_type": "markdown",
   "metadata": {},
   "source": [
    "scikit-learn支持多种格式的数据，包括LibSVM格式数据\n",
    "XGBoost可以加载libsvm格式的文本数据，libsvm的文件格式（稀疏特征）如下：\n",
    "1 101:1.2 102:0.03\n",
    "0 1:2.1 10001:300 10002:400\n",
    "...\n",
    "\n",
    "每一行表示一个样本，第一行的开头的“1”是样本的标签。“101”和“102”为特征索引，'1.2'和'0.03' 为特征的值。\n",
    "在两类分类中，用“1”表示正样本，用“0” 表示负样本。也支持[0,1]表示概率用来做标签，表示为正样本的概率。\n",
    "\n",
    "下面的示例数据需要我们通过一些蘑菇的若干属性判断这个品种是否有毒。\n",
    "UCI数据描述：http://archive.ics.uci.edu/ml/machine-learning-databases/mushroom/ ，\n",
    "每个样本描述了蘑菇的22个属性，比如形状、气味等等(加工成libsvm格式后变成了126维特征)，然后给出了这个蘑菇是否可食用。其中6513个样本做训练，1611个样本做测试。\n"
   ]
  },
  {
   "cell_type": "code",
   "execution_count": 3,
   "metadata": {
    "collapsed": false
   },
   "outputs": [
    {
     "data": {
      "text/plain": [
       "(6513, 126)"
      ]
     },
     "execution_count": 3,
     "metadata": {},
     "output_type": "execute_result"
    },
    {
     "data": {
      "text/plain": [
       "(6513L,)"
      ]
     },
     "execution_count": 3,
     "metadata": {},
     "output_type": "execute_result"
    }
   ],
   "source": [
    "# read in data，数据在xgboost安装的路径下的demo目录,现在copy到代码目录下的data目录\n",
    "my_workpath = './data/'\n",
    "X_train,y_train = load_svmlight_file(my_workpath + 'agaricus.txt.train')\n",
    "X_test,y_test = load_svmlight_file(my_workpath + 'agaricus.txt.test')\n",
    "\n",
    "X_train.shape\n",
    "y_train.shape"
   ]
  },
  {
   "cell_type": "markdown",
   "metadata": {},
   "source": [
    "## 训练集-校验集分离\n",
    "假设我们取1/3的训练数据做为校验数据\n",
    "ps: 为什么要校验？"
   ]
  },
  {
   "cell_type": "code",
   "execution_count": 4,
   "metadata": {
    "collapsed": false
   },
   "outputs": [
    {
     "data": {
      "text/plain": [
       "(4363, 126)"
      ]
     },
     "execution_count": 4,
     "metadata": {},
     "output_type": "execute_result"
    },
    {
     "data": {
      "text/plain": [
       "(2150, 126)"
      ]
     },
     "execution_count": 4,
     "metadata": {},
     "output_type": "execute_result"
    }
   ],
   "source": [
    "# split data into train and test sets, 1/3的训练数据作为校验数据\n",
    "seed = 7\n",
    "test_size = 0.33\n",
    "X_train_part, X_validate, y_train_part, y_validate= train_test_split(X_train, y_train, test_size=test_size,\n",
    "    random_state=seed)\n",
    "\n",
    "X_train_part.shape\n",
    "X_validate.shape"
   ]
  },
  {
   "cell_type": "markdown",
   "metadata": {},
   "source": [
    "## 训练参数设置"
   ]
  },
  {
   "cell_type": "markdown",
   "metadata": {},
   "source": [
    "max_depth： 树的最大深度。缺省值为6，取值范围为：[1,∞]\n",
    "eta：为了防止过拟合，更新过程中用到的收缩步长。在每次提升计算之后，算法会直接获得新特征的权重。 eta通过缩减特征的权重使提升计算过程更加保守。缺省值为0.3，取值范围为：[0,1]\n",
    "silent：取0时表示打印出运行时信息，取1时表示以缄默方式运行，不打印运行时信息。缺省值为0\n",
    "objective： 定义学习任务及相应的学习目标，“binary:logistic” 表示二分类的逻辑回归问题，输出为概率。\n",
    "\n",
    "其他参数取默认值。"
   ]
  },
  {
   "cell_type": "markdown",
   "metadata": {},
   "source": [
    "## 训练模型"
   ]
  },
  {
   "cell_type": "markdown",
   "metadata": {},
   "source": [
    "有了参数列表和数据就可以训练模型了 "
   ]
  },
  {
   "cell_type": "code",
   "execution_count": 7,
   "metadata": {
    "collapsed": false,
    "scrolled": true
   },
   "outputs": [
    {
     "name": "stdout",
     "output_type": "stream",
     "text": [
      "[0]\tvalidation_0-error:0.045611\tvalidation_0-logloss:0.614637\tvalidation_1-error:0.048372\tvalidation_1-logloss:0.615401\n",
      "[1]\tvalidation_0-error:0.041256\tvalidation_0-logloss:0.549907\tvalidation_1-error:0.042326\tvalidation_1-logloss:0.550696\n",
      "[2]\tvalidation_0-error:0.045611\tvalidation_0-logloss:0.49543\tvalidation_1-error:0.048372\tvalidation_1-logloss:0.496777\n",
      "[3]\tvalidation_0-error:0.041256\tvalidation_0-logloss:0.449089\tvalidation_1-error:0.042326\tvalidation_1-logloss:0.450412\n",
      "[4]\tvalidation_0-error:0.041256\tvalidation_0-logloss:0.409231\tvalidation_1-error:0.042326\tvalidation_1-logloss:0.410717\n",
      "[5]\tvalidation_0-error:0.041256\tvalidation_0-logloss:0.373748\tvalidation_1-error:0.042326\tvalidation_1-logloss:0.375653\n",
      "[6]\tvalidation_0-error:0.023378\tvalidation_0-logloss:0.343051\tvalidation_1-error:0.023256\tvalidation_1-logloss:0.344738\n",
      "[7]\tvalidation_0-error:0.041256\tvalidation_0-logloss:0.315369\tvalidation_1-error:0.042326\tvalidation_1-logloss:0.317409\n",
      "[8]\tvalidation_0-error:0.041256\tvalidation_0-logloss:0.290912\tvalidation_1-error:0.042326\tvalidation_1-logloss:0.292587\n",
      "[9]\tvalidation_0-error:0.023378\tvalidation_0-logloss:0.269356\tvalidation_1-error:0.023256\tvalidation_1-logloss:0.271103\n",
      "[10]\tvalidation_0-error:0.00573\tvalidation_0-logloss:0.249593\tvalidation_1-error:0.006512\tvalidation_1-logloss:0.251354\n",
      "[11]\tvalidation_0-error:0.01719\tvalidation_0-logloss:0.228658\tvalidation_1-error:0.017674\tvalidation_1-logloss:0.230144\n",
      "[12]\tvalidation_0-error:0.01719\tvalidation_0-logloss:0.210442\tvalidation_1-error:0.017674\tvalidation_1-logloss:0.21167\n",
      "[13]\tvalidation_0-error:0.01719\tvalidation_0-logloss:0.194562\tvalidation_1-error:0.017674\tvalidation_1-logloss:0.19555\n",
      "[14]\tvalidation_0-error:0.01719\tvalidation_0-logloss:0.1807\tvalidation_1-error:0.017674\tvalidation_1-logloss:0.181463\n",
      "[15]\tvalidation_0-error:0.01719\tvalidation_0-logloss:0.168585\tvalidation_1-error:0.017674\tvalidation_1-logloss:0.169138\n",
      "[16]\tvalidation_0-error:0.01719\tvalidation_0-logloss:0.157988\tvalidation_1-error:0.017674\tvalidation_1-logloss:0.158345\n",
      "[17]\tvalidation_0-error:0.01719\tvalidation_0-logloss:0.149407\tvalidation_1-error:0.017674\tvalidation_1-logloss:0.149731\n",
      "[18]\tvalidation_0-error:0.0259\tvalidation_0-logloss:0.140835\tvalidation_1-error:0.024651\tvalidation_1-logloss:0.140979\n",
      "[19]\tvalidation_0-error:0.022003\tvalidation_0-logloss:0.133937\tvalidation_1-error:0.020465\tvalidation_1-logloss:0.13405\n",
      "[20]\tvalidation_0-error:0.022003\tvalidation_0-logloss:0.126967\tvalidation_1-error:0.020465\tvalidation_1-logloss:0.126914\n",
      "[21]\tvalidation_0-error:0.022003\tvalidation_0-logloss:0.121386\tvalidation_1-error:0.020465\tvalidation_1-logloss:0.121303\n",
      "[22]\tvalidation_0-error:0.022003\tvalidation_0-logloss:0.115692\tvalidation_1-error:0.020465\tvalidation_1-logloss:0.115456\n",
      "[23]\tvalidation_0-error:0.022003\tvalidation_0-logloss:0.111147\tvalidation_1-error:0.020465\tvalidation_1-logloss:0.110881\n",
      "[24]\tvalidation_0-error:0.022003\tvalidation_0-logloss:0.106477\tvalidation_1-error:0.020465\tvalidation_1-logloss:0.10607\n",
      "[25]\tvalidation_0-error:0.022003\tvalidation_0-logloss:0.102434\tvalidation_1-error:0.020465\tvalidation_1-logloss:0.102319\n",
      "[26]\tvalidation_0-error:0.022003\tvalidation_0-logloss:0.098434\tvalidation_1-error:0.020465\tvalidation_1-logloss:0.09819\n",
      "[27]\tvalidation_0-error:0.022003\tvalidation_0-logloss:0.094875\tvalidation_1-error:0.020465\tvalidation_1-logloss:0.094824\n",
      "[28]\tvalidation_0-error:0.022003\tvalidation_0-logloss:0.091579\tvalidation_1-error:0.020465\tvalidation_1-logloss:0.091784\n",
      "[29]\tvalidation_0-error:0.013294\tvalidation_0-logloss:0.086202\tvalidation_1-error:0.013488\tvalidation_1-logloss:0.086807\n",
      "[30]\tvalidation_0-error:0.022003\tvalidation_0-logloss:0.083247\tvalidation_1-error:0.020465\tvalidation_1-logloss:0.083741\n",
      "[31]\tvalidation_0-error:0.022003\tvalidation_0-logloss:0.080496\tvalidation_1-error:0.020465\tvalidation_1-logloss:0.080924\n",
      "[32]\tvalidation_0-error:0.022003\tvalidation_0-logloss:0.077298\tvalidation_1-error:0.020465\tvalidation_1-logloss:0.077394\n",
      "[33]\tvalidation_0-error:0.015815\tvalidation_0-logloss:0.074507\tvalidation_1-error:0.016279\tvalidation_1-logloss:0.074765\n",
      "[34]\tvalidation_0-error:0.022003\tvalidation_0-logloss:0.071848\tvalidation_1-error:0.020465\tvalidation_1-logloss:0.071811\n",
      "[35]\tvalidation_0-error:0.010543\tvalidation_0-logloss:0.069488\tvalidation_1-error:0.009302\tvalidation_1-logloss:0.069385\n",
      "[36]\tvalidation_0-error:0.001834\tvalidation_0-logloss:0.067147\tvalidation_1-error:0.002326\tvalidation_1-logloss:0.067341\n",
      "[37]\tvalidation_0-error:0.001834\tvalidation_0-logloss:0.06504\tvalidation_1-error:0.002326\tvalidation_1-logloss:0.065406\n",
      "[38]\tvalidation_0-error:0.001834\tvalidation_0-logloss:0.062898\tvalidation_1-error:0.002326\tvalidation_1-logloss:0.063381\n",
      "[39]\tvalidation_0-error:0.001834\tvalidation_0-logloss:0.060837\tvalidation_1-error:0.002326\tvalidation_1-logloss:0.061088\n",
      "[40]\tvalidation_0-error:0.001834\tvalidation_0-logloss:0.058894\tvalidation_1-error:0.002326\tvalidation_1-logloss:0.059039\n",
      "[41]\tvalidation_0-error:0.001834\tvalidation_0-logloss:0.057112\tvalidation_1-error:0.002326\tvalidation_1-logloss:0.057326\n",
      "[42]\tvalidation_0-error:0.001834\tvalidation_0-logloss:0.055391\tvalidation_1-error:0.002326\tvalidation_1-logloss:0.05543\n",
      "[43]\tvalidation_0-error:0.001834\tvalidation_0-logloss:0.053745\tvalidation_1-error:0.002326\tvalidation_1-logloss:0.053871\n",
      "[44]\tvalidation_0-error:0.001834\tvalidation_0-logloss:0.052198\tvalidation_1-error:0.002326\tvalidation_1-logloss:0.052235\n",
      "[45]\tvalidation_0-error:0.001834\tvalidation_0-logloss:0.050776\tvalidation_1-error:0.002326\tvalidation_1-logloss:0.051033\n",
      "[46]\tvalidation_0-error:0.001834\tvalidation_0-logloss:0.049351\tvalidation_1-error:0.002326\tvalidation_1-logloss:0.04973\n",
      "[47]\tvalidation_0-error:0.001834\tvalidation_0-logloss:0.047848\tvalidation_1-error:0.002326\tvalidation_1-logloss:0.048287\n",
      "[48]\tvalidation_0-error:0.001834\tvalidation_0-logloss:0.046406\tvalidation_1-error:0.002326\tvalidation_1-logloss:0.046702\n",
      "[49]\tvalidation_0-error:0.001834\tvalidation_0-logloss:0.045141\tvalidation_1-error:0.002326\tvalidation_1-logloss:0.045492\n",
      "[50]\tvalidation_0-error:0.001834\tvalidation_0-logloss:0.043917\tvalidation_1-error:0.002326\tvalidation_1-logloss:0.044133\n",
      "[51]\tvalidation_0-error:0.001834\tvalidation_0-logloss:0.042729\tvalidation_1-error:0.002326\tvalidation_1-logloss:0.042999\n",
      "[52]\tvalidation_0-error:0.001834\tvalidation_0-logloss:0.041608\tvalidation_1-error:0.002326\tvalidation_1-logloss:0.041807\n",
      "[53]\tvalidation_0-error:0.001834\tvalidation_0-logloss:0.040493\tvalidation_1-error:0.002326\tvalidation_1-logloss:0.040855\n",
      "[54]\tvalidation_0-error:0.001834\tvalidation_0-logloss:0.039457\tvalidation_1-error:0.002326\tvalidation_1-logloss:0.039871\n",
      "[55]\tvalidation_0-error:0.001834\tvalidation_0-logloss:0.038452\tvalidation_1-error:0.002326\tvalidation_1-logloss:0.038755\n",
      "[56]\tvalidation_0-error:0.001834\tvalidation_0-logloss:0.037478\tvalidation_1-error:0.002326\tvalidation_1-logloss:0.037717\n",
      "[57]\tvalidation_0-error:0.001834\tvalidation_0-logloss:0.036439\tvalidation_1-error:0.002326\tvalidation_1-logloss:0.036777\n",
      "[58]\tvalidation_0-error:0.001834\tvalidation_0-logloss:0.035552\tvalidation_1-error:0.002326\tvalidation_1-logloss:0.035936\n",
      "[59]\tvalidation_0-error:0.001834\tvalidation_0-logloss:0.034694\tvalidation_1-error:0.002326\tvalidation_1-logloss:0.034984\n",
      "[60]\tvalidation_0-error:0.001834\tvalidation_0-logloss:0.033826\tvalidation_1-error:0.002326\tvalidation_1-logloss:0.034132\n",
      "[61]\tvalidation_0-error:0.001834\tvalidation_0-logloss:0.032959\tvalidation_1-error:0.002326\tvalidation_1-logloss:0.033348\n",
      "[62]\tvalidation_0-error:0.001834\tvalidation_0-logloss:0.032192\tvalidation_1-error:0.002326\tvalidation_1-logloss:0.032526\n",
      "[63]\tvalidation_0-error:0.001834\tvalidation_0-logloss:0.031476\tvalidation_1-error:0.002326\tvalidation_1-logloss:0.031754\n",
      "[64]\tvalidation_0-error:0.001834\tvalidation_0-logloss:0.030756\tvalidation_1-error:0.002326\tvalidation_1-logloss:0.031081\n",
      "[65]\tvalidation_0-error:0.001834\tvalidation_0-logloss:0.030038\tvalidation_1-error:0.002326\tvalidation_1-logloss:0.030377\n",
      "[66]\tvalidation_0-error:0.001834\tvalidation_0-logloss:0.029332\tvalidation_1-error:0.002326\tvalidation_1-logloss:0.029594\n",
      "[67]\tvalidation_0-error:0.001834\tvalidation_0-logloss:0.028703\tvalidation_1-error:0.002326\tvalidation_1-logloss:0.029079\n",
      "[68]\tvalidation_0-error:0.001834\tvalidation_0-logloss:0.028064\tvalidation_1-error:0.002326\tvalidation_1-logloss:0.028391\n",
      "[69]\tvalidation_0-error:0.001834\tvalidation_0-logloss:0.027404\tvalidation_1-error:0.002326\tvalidation_1-logloss:0.027725\n",
      "[70]\tvalidation_0-error:0.001834\tvalidation_0-logloss:0.026824\tvalidation_1-error:0.002326\tvalidation_1-logloss:0.027187\n",
      "[71]\tvalidation_0-error:0.001834\tvalidation_0-logloss:0.026268\tvalidation_1-error:0.002326\tvalidation_1-logloss:0.026565\n",
      "[72]\tvalidation_0-error:0.001834\tvalidation_0-logloss:0.025679\tvalidation_1-error:0.002326\tvalidation_1-logloss:0.025982\n",
      "[73]\tvalidation_0-error:0.001834\tvalidation_0-logloss:0.025153\tvalidation_1-error:0.002326\tvalidation_1-logloss:0.025413\n",
      "[74]\tvalidation_0-error:0.001834\tvalidation_0-logloss:0.02461\tvalidation_1-error:0.002326\tvalidation_1-logloss:0.024927\n",
      "[75]\tvalidation_0-error:0.001834\tvalidation_0-logloss:0.0241\tvalidation_1-error:0.002326\tvalidation_1-logloss:0.02446\n",
      "[76]\tvalidation_0-error:0.001834\tvalidation_0-logloss:0.023615\tvalidation_1-error:0.002326\tvalidation_1-logloss:0.023921\n",
      "[77]\tvalidation_0-error:0.001834\tvalidation_0-logloss:0.023118\tvalidation_1-error:0.002326\tvalidation_1-logloss:0.023423\n",
      "[78]\tvalidation_0-error:0.001834\tvalidation_0-logloss:0.022671\tvalidation_1-error:0.002326\tvalidation_1-logloss:0.023015\n",
      "[79]\tvalidation_0-error:0.001834\tvalidation_0-logloss:0.022244\tvalidation_1-error:0.002326\tvalidation_1-logloss:0.022538\n",
      "[80]\tvalidation_0-error:0.001834\tvalidation_0-logloss:0.021793\tvalidation_1-error:0.002326\tvalidation_1-logloss:0.022087\n",
      "[81]\tvalidation_0-error:0.001834\tvalidation_0-logloss:0.021396\tvalidation_1-error:0.002326\tvalidation_1-logloss:0.021654\n",
      "[82]\tvalidation_0-error:0.001834\tvalidation_0-logloss:0.020948\tvalidation_1-error:0.002326\tvalidation_1-logloss:0.021198\n",
      "[83]\tvalidation_0-error:0.001834\tvalidation_0-logloss:0.020559\tvalidation_1-error:0.002326\tvalidation_1-logloss:0.020806\n",
      "[84]\tvalidation_0-error:0.001834\tvalidation_0-logloss:0.020144\tvalidation_1-error:0.002326\tvalidation_1-logloss:0.020388\n",
      "[85]\tvalidation_0-error:0.001834\tvalidation_0-logloss:0.019775\tvalidation_1-error:0.002326\tvalidation_1-logloss:0.020057\n",
      "[86]\tvalidation_0-error:0.001834\tvalidation_0-logloss:0.019029\tvalidation_1-error:0.002326\tvalidation_1-logloss:0.019235\n",
      "[87]\tvalidation_0-error:0.001834\tvalidation_0-logloss:0.018672\tvalidation_1-error:0.002326\tvalidation_1-logloss:0.018823\n",
      "[88]\tvalidation_0-error:0.001834\tvalidation_0-logloss:0.018313\tvalidation_1-error:0.002326\tvalidation_1-logloss:0.018507\n",
      "[89]\tvalidation_0-error:0.001834\tvalidation_0-logloss:0.017989\tvalidation_1-error:0.002326\tvalidation_1-logloss:0.01815\n",
      "[90]\tvalidation_0-error:0.001834\tvalidation_0-logloss:0.017376\tvalidation_1-error:0.002326\tvalidation_1-logloss:0.01748\n",
      "[91]\tvalidation_0-error:0.001834\tvalidation_0-logloss:0.017087\tvalidation_1-error:0.002326\tvalidation_1-logloss:0.017189\n",
      "[92]\tvalidation_0-error:0.001834\tvalidation_0-logloss:0.016778\tvalidation_1-error:0.002326\tvalidation_1-logloss:0.016877\n",
      "[93]\tvalidation_0-error:0.001834\tvalidation_0-logloss:0.016458\tvalidation_1-error:0.002326\tvalidation_1-logloss:0.016527\n",
      "[94]\tvalidation_0-error:0.001834\tvalidation_0-logloss:0.015932\tvalidation_1-error:0.002326\tvalidation_1-logloss:0.015956\n",
      "[95]\tvalidation_0-error:0.001834\tvalidation_0-logloss:0.015645\tvalidation_1-error:0.002326\tvalidation_1-logloss:0.015665\n",
      "[96]\tvalidation_0-error:0.001834\tvalidation_0-logloss:0.015379\tvalidation_1-error:0.002326\tvalidation_1-logloss:0.015397\n",
      "[97]\tvalidation_0-error:0.001834\tvalidation_0-logloss:0.015116\tvalidation_1-error:0.002326\tvalidation_1-logloss:0.01513\n",
      "[98]\tvalidation_0-error:0.001834\tvalidation_0-logloss:0.014883\tvalidation_1-error:0.002326\tvalidation_1-logloss:0.014893\n",
      "[99]\tvalidation_0-error:0.001834\tvalidation_0-logloss:0.01464\tvalidation_1-error:0.002326\tvalidation_1-logloss:0.014624\n"
     ]
    },
    {
     "data": {
      "text/plain": [
       "XGBClassifier(base_score=0.5, booster='gbtree', colsample_bylevel=1,\n",
       "       colsample_bytree=1, gamma=0, learning_rate=0.1, max_delta_step=0,\n",
       "       max_depth=2, min_child_weight=1, missing=None, n_estimators=100,\n",
       "       n_jobs=1, nthread=None, objective='binary:logistic', random_state=0,\n",
       "       reg_alpha=0, reg_lambda=1, scale_pos_weight=1, seed=None,\n",
       "       silent=True, subsample=1)"
      ]
     },
     "execution_count": 7,
     "metadata": {},
     "output_type": "execute_result"
    }
   ],
   "source": [
    "# 设置boosting迭代计算次数\n",
    "num_round = 100\n",
    "\n",
    "#bst = XGBClassifier(param)\n",
    "#bst = XGBClassifier()\n",
    "bst =XGBClassifier(max_depth=2, learning_rate=0.1, n_estimators=num_round, silent=True, objective='binary:logistic')\n",
    "\n",
    "eval_set = [(X_train_part, y_train_part), (X_validate, y_validate)]\n",
    "bst.fit(X_train_part, y_train_part, eval_metric=[\"error\", \"logloss\"], eval_set=eval_set, verbose=True)"
   ]
  },
  {
   "cell_type": "markdown",
   "metadata": {},
   "source": [
    "模型在每次校验集上的性能存在模型中，可用来进一步进行分析 model.evals result() 返回一个字典：评估数据集和分数"
   ]
  },
  {
   "cell_type": "markdown",
   "metadata": {},
   "source": [
    "显示学习曲线"
   ]
  },
  {
   "cell_type": "code",
   "execution_count": 9,
   "metadata": {
    "collapsed": false,
    "scrolled": true
   },
   "outputs": [
    {
     "name": "stdout",
     "output_type": "stream",
     "text": [
      "{u'validation_0': {u'logloss': [0.614637, 0.549907, 0.49543, 0.449089, 0.409231, 0.373748, 0.343051, 0.315369, 0.290912, 0.269356, 0.249593, 0.228658, 0.210442, 0.194562, 0.1807, 0.168585, 0.157988, 0.149407, 0.140835, 0.133937, 0.126967, 0.121386, 0.115692, 0.111147, 0.106477, 0.102434, 0.098434, 0.094875, 0.091579, 0.086202, 0.083247, 0.080496, 0.077298, 0.074507, 0.071848, 0.069488, 0.067147, 0.06504, 0.062898, 0.060837, 0.058894, 0.057112, 0.055391, 0.053745, 0.052198, 0.050776, 0.049351, 0.047848, 0.046406, 0.045141, 0.043917, 0.042729, 0.041608, 0.040493, 0.039457, 0.038452, 0.037478, 0.036439, 0.035552, 0.034694, 0.033826, 0.032959, 0.032192, 0.031476, 0.030756, 0.030038, 0.029332, 0.028703, 0.028064, 0.027404, 0.026824, 0.026268, 0.025679, 0.025153, 0.02461, 0.0241, 0.023615, 0.023118, 0.022671, 0.022244, 0.021793, 0.021396, 0.020948, 0.020559, 0.020144, 0.019775, 0.019029, 0.018672, 0.018313, 0.017989, 0.017376, 0.017087, 0.016778, 0.016458, 0.015932, 0.015645, 0.015379, 0.015116, 0.014883, 0.01464], u'error': [0.045611, 0.041256, 0.045611, 0.041256, 0.041256, 0.041256, 0.023378, 0.041256, 0.041256, 0.023378, 0.00573, 0.01719, 0.01719, 0.01719, 0.01719, 0.01719, 0.01719, 0.01719, 0.0259, 0.022003, 0.022003, 0.022003, 0.022003, 0.022003, 0.022003, 0.022003, 0.022003, 0.022003, 0.022003, 0.013294, 0.022003, 0.022003, 0.022003, 0.015815, 0.022003, 0.010543, 0.001834, 0.001834, 0.001834, 0.001834, 0.001834, 0.001834, 0.001834, 0.001834, 0.001834, 0.001834, 0.001834, 0.001834, 0.001834, 0.001834, 0.001834, 0.001834, 0.001834, 0.001834, 0.001834, 0.001834, 0.001834, 0.001834, 0.001834, 0.001834, 0.001834, 0.001834, 0.001834, 0.001834, 0.001834, 0.001834, 0.001834, 0.001834, 0.001834, 0.001834, 0.001834, 0.001834, 0.001834, 0.001834, 0.001834, 0.001834, 0.001834, 0.001834, 0.001834, 0.001834, 0.001834, 0.001834, 0.001834, 0.001834, 0.001834, 0.001834, 0.001834, 0.001834, 0.001834, 0.001834, 0.001834, 0.001834, 0.001834, 0.001834, 0.001834, 0.001834, 0.001834, 0.001834, 0.001834, 0.001834]}, u'validation_1': {u'logloss': [0.615401, 0.550696, 0.496777, 0.450412, 0.410717, 0.375653, 0.344738, 0.317409, 0.292587, 0.271103, 0.251354, 0.230144, 0.21167, 0.19555, 0.181463, 0.169138, 0.158345, 0.149731, 0.140979, 0.13405, 0.126914, 0.121303, 0.115456, 0.110881, 0.10607, 0.102319, 0.09819, 0.094824, 0.091784, 0.086807, 0.083741, 0.080924, 0.077394, 0.074765, 0.071811, 0.069385, 0.067341, 0.065406, 0.063381, 0.061088, 0.059039, 0.057326, 0.05543, 0.053871, 0.052235, 0.051033, 0.04973, 0.048287, 0.046702, 0.045492, 0.044133, 0.042999, 0.041807, 0.040855, 0.039871, 0.038755, 0.037717, 0.036777, 0.035936, 0.034984, 0.034132, 0.033348, 0.032526, 0.031754, 0.031081, 0.030377, 0.029594, 0.029079, 0.028391, 0.027725, 0.027187, 0.026565, 0.025982, 0.025413, 0.024927, 0.02446, 0.023921, 0.023423, 0.023015, 0.022538, 0.022087, 0.021654, 0.021198, 0.020806, 0.020388, 0.020057, 0.019235, 0.018823, 0.018507, 0.01815, 0.01748, 0.017189, 0.016877, 0.016527, 0.015956, 0.015665, 0.015397, 0.01513, 0.014893, 0.014624], u'error': [0.048372, 0.042326, 0.048372, 0.042326, 0.042326, 0.042326, 0.023256, 0.042326, 0.042326, 0.023256, 0.006512, 0.017674, 0.017674, 0.017674, 0.017674, 0.017674, 0.017674, 0.017674, 0.024651, 0.020465, 0.020465, 0.020465, 0.020465, 0.020465, 0.020465, 0.020465, 0.020465, 0.020465, 0.020465, 0.013488, 0.020465, 0.020465, 0.020465, 0.016279, 0.020465, 0.009302, 0.002326, 0.002326, 0.002326, 0.002326, 0.002326, 0.002326, 0.002326, 0.002326, 0.002326, 0.002326, 0.002326, 0.002326, 0.002326, 0.002326, 0.002326, 0.002326, 0.002326, 0.002326, 0.002326, 0.002326, 0.002326, 0.002326, 0.002326, 0.002326, 0.002326, 0.002326, 0.002326, 0.002326, 0.002326, 0.002326, 0.002326, 0.002326, 0.002326, 0.002326, 0.002326, 0.002326, 0.002326, 0.002326, 0.002326, 0.002326, 0.002326, 0.002326, 0.002326, 0.002326, 0.002326, 0.002326, 0.002326, 0.002326, 0.002326, 0.002326, 0.002326, 0.002326, 0.002326, 0.002326, 0.002326, 0.002326, 0.002326, 0.002326, 0.002326, 0.002326, 0.002326, 0.002326, 0.002326, 0.002326]}}\n"
     ]
    }
   ],
   "source": [
    "# retrieve performance metrics\n",
    "results = bst.evals_result()\n",
    "print(results)"
   ]
  },
  {
   "cell_type": "code",
   "execution_count": 12,
   "metadata": {
    "collapsed": false
   },
   "outputs": [
    {
     "data": {
      "text/plain": [
       "[<matplotlib.lines.Line2D at 0xc855278>]"
      ]
     },
     "execution_count": 12,
     "metadata": {},
     "output_type": "execute_result"
    },
    {
     "data": {
      "text/plain": [
       "[<matplotlib.lines.Line2D at 0xc6d0e10>]"
      ]
     },
     "execution_count": 12,
     "metadata": {},
     "output_type": "execute_result"
    },
    {
     "data": {
      "text/plain": [
       "<matplotlib.legend.Legend at 0xc8555f8>"
      ]
     },
     "execution_count": 12,
     "metadata": {},
     "output_type": "execute_result"
    },
    {
     "data": {
      "text/plain": [
       "<matplotlib.text.Text at 0xb3b1390>"
      ]
     },
     "execution_count": 12,
     "metadata": {},
     "output_type": "execute_result"
    },
    {
     "data": {
      "text/plain": [
       "<matplotlib.text.Text at 0xc965780>"
      ]
     },
     "execution_count": 12,
     "metadata": {},
     "output_type": "execute_result"
    },
    {
     "data": {
      "text/plain": [
       "[<matplotlib.lines.Line2D at 0xc4fbb70>]"
      ]
     },
     "execution_count": 12,
     "metadata": {},
     "output_type": "execute_result"
    },
    {
     "data": {
      "text/plain": [
       "[<matplotlib.lines.Line2D at 0xc12e128>]"
      ]
     },
     "execution_count": 12,
     "metadata": {},
     "output_type": "execute_result"
    },
    {
     "data": {
      "text/plain": [
       "<matplotlib.legend.Legend at 0xc12e278>"
      ]
     },
     "execution_count": 12,
     "metadata": {},
     "output_type": "execute_result"
    },
    {
     "data": {
      "text/plain": [
       "<matplotlib.text.Text at 0xc46ff60>"
      ]
     },
     "execution_count": 12,
     "metadata": {},
     "output_type": "execute_result"
    },
    {
     "data": {
      "text/plain": [
       "<matplotlib.text.Text at 0xc5114e0>"
      ]
     },
     "execution_count": 12,
     "metadata": {},
     "output_type": "execute_result"
    },
    {
     "data": {
      "image/png": "[encoded data removed]",
      "text/plain": [
       "<matplotlib.figure.Figure at 0xc855128>"
      ]
     },
     "metadata": {},
     "output_type": "display_data"
    },
    {
     "data": {
      "image/png": "[encoded data removed]",
      "text/plain": [
       "<matplotlib.figure.Figure at 0xc7ba208>"
      ]
     },
     "metadata": {},
     "output_type": "display_data"
    }
   ],
   "source": [
    "epochs = len(results['validation_0']['error'])\n",
    "x_axis = range(0, epochs)\n",
    "%matplotlib inline  \n",
    "\n",
    "# plot log loss\n",
    "fig, ax = pyplot.subplots()\n",
    "ax.plot(x_axis, results['validation_0']['logloss'], label='Train')\n",
    "ax.plot(x_axis, results['validation_1']['logloss'], label='Test')\n",
    "ax.legend()\n",
    "pyplot.ylabel('Log Loss')\n",
    "pyplot.title('XGBoost Log Loss')\n",
    "\n",
    "# plot classification error\n",
    "fig, ax = pyplot.subplots()\n",
    "ax.plot(x_axis, results['validation_0']['error'], label='Train')\n",
    "ax.plot(x_axis, results['validation_1']['error'], label='Test')\n",
    "ax.legend()\n",
    "pyplot.ylabel('Classification Error')\n",
    "pyplot.title('XGBoost Classification Error')\n",
    "pyplot.show()\n",
    "\n",
    "pyplot.show()"
   ]
  },
  {
   "cell_type": "markdown",
   "metadata": {},
   "source": [
    "## 测试"
   ]
  },
  {
   "cell_type": "markdown",
   "metadata": {},
   "source": [
    "模型训练好后，可以用训练好的模型对测试数据进行预测\n",
    "\n",
    "XGBoost预测的输出是概率，输出值是样本为第一类的概率。我们需要将概率值转换为0或1。"
   ]
  },
  {
   "cell_type": "code",
   "execution_count": 13,
   "metadata": {
    "collapsed": false
   },
   "outputs": [
    {
     "name": "stdout",
     "output_type": "stream",
     "text": [
      "Test Accuracy: 99.81%\n"
     ]
    }
   ],
   "source": [
    "# make prediction\n",
    "preds = bst.predict(X_test)\n",
    "predictions = [round(value) for value in preds]\n",
    "\n",
    "test_accuracy = accuracy_score(y_test, predictions)\n",
    "print(\"Test Accuracy: %.2f%%\" % (test_accuracy * 100.0))"
   ]
  }
 ],
 "metadata": {
  "kernelspec": {
   "display_name": "Python 2",
   "language": "python",
   "name": "python2"
  },
  "language_info": {
   "codemirror_mode": {
    "name": "ipython",
    "version": 2
   },
   "file_extension": ".py",
   "mimetype": "text/x-python",
   "name": "python",
   "nbconvert_exporter": "python",
   "pygments_lexer": "ipython2",
   "version": "2.7.13"
  }
 },
 "nbformat": 4,
 "nbformat_minor": 2
}
